{
 "cells": [
  {
   "cell_type": "markdown",
   "metadata": {},
   "source": [
    "# Write a Python program to find the first 20 non-even prime natural numbers."
   ]
  },
  {
   "cell_type": "code",
   "execution_count": 34,
   "metadata": {},
   "outputs": [
    {
     "name": "stdout",
     "output_type": "stream",
     "text": [
      "Enter the number of prime numbers needed3\n",
      "2 3 5 "
     ]
    }
   ],
   "source": [
    "def isnumprime(a):\n",
    "    count= 0\n",
    "    for i in range(1, a+1):\n",
    "        if a%i==0:\n",
    "            count = count+1\n",
    "    if count==2:\n",
    "        return 1\n",
    "        \n",
    "x = int(input(\"Enter the number of prime numbers needed\"))\n",
    "num=0\n",
    "step=1\n",
    "while step<=x:\n",
    "    if isnumprime(num) == 1:\n",
    "        print(num, end= \" \")\n",
    "        step+=1\n",
    "    num+= 1"
   ]
  },
  {
   "cell_type": "markdown",
   "metadata": {},
   "source": [
    "# Write a Python program to implement 15 functions of string"
   ]
  },
  {
   "cell_type": "code",
   "execution_count": 40,
   "metadata": {},
   "outputs": [
    {
     "name": "stdout",
     "output_type": "stream",
     "text": [
      "ranjit\n",
      "RANJIT\n",
      "True\n",
      "False\n",
      "6\n",
      "RRanjitaRanjitmRanjitaRanjitn\n",
      "RanjiR\n",
      "['R', 'm', 'n']\n",
      "False\n",
      "False\n",
      "True\n",
      "2\n",
      "['Ra', 'an']\n",
      "Andhrapradesh, 2306\n",
      "**Hello\n",
      "Hello**\n"
     ]
    }
   ],
   "source": [
    "L = \"Ranjit\"\n",
    "F = \"Raman\"\n",
    "test = \"**Hello**\"\n",
    "address = \"andhraPradesh, 2306\"\n",
    "print(L.lower())\n",
    "print(L.upper())\n",
    "print(L.startswith('R'))\n",
    "print(L.endswith('p'))\n",
    "print(len(L))\n",
    "print(L.join(F))\n",
    "print(L.replace(\"t\",\"R\"))\n",
    "print(F.split(\"a\"))\n",
    "print(address.isalnum())\n",
    "print(address.isspace())\n",
    "print( 'R' in L)\n",
    "print (F.find(\"man\"))\n",
    "print (F.split(\"m\"))\n",
    "print(address.capitalize())\n",
    "print(test.rstrip(\"*\"))\n",
    "print(test.lstrip(\"*\"))"
   ]
  },
  {
   "cell_type": "markdown",
   "metadata": {},
   "source": [
    "# Write a Python program to check if the given string is a Palindrome or Anagram or None of them. Display the message accordingly to the user"
   ]
  },
  {
   "cell_type": "code",
   "execution_count": 58,
   "metadata": {},
   "outputs": [
    {
     "name": "stdout",
     "output_type": "stream",
     "text": [
      "enter stringranjit\n",
      "ranjit\n",
      "tijnar\n",
      "Not a Palindrome\n"
     ]
    }
   ],
   "source": [
    "var = input(\"enter string\")\n",
    "var_r = \"\".join(reversed(var))\n",
    "print(var)\n",
    "print(var_r)\n",
    "\n",
    "if var==var_r:\n",
    "    print(\"Palindrome\")\n",
    "else:\n",
    "    print(\"Not a Palindrome\")"
   ]
  },
  {
   "cell_type": "markdown",
   "metadata": {},
   "source": []
  },
  {
   "cell_type": "markdown",
   "metadata": {},
   "source": [
    "# Write a Python's user-defined function that removes all the additional characters from the string and convert it finally to lower case using built-in lower(). eg: If the string is \"Dr. Darshan Ingle @AIML Trainer\", then the output be \"drdarshaningleaimltrainer\""
   ]
  },
  {
   "cell_type": "code",
   "execution_count": 68,
   "metadata": {},
   "outputs": [
    {
     "data": {
      "text/plain": [
       "'drdarshaningleaimltrainer'"
      ]
     },
     "execution_count": 68,
     "metadata": {},
     "output_type": "execute_result"
    }
   ],
   "source": [
    "def convertor(str):\n",
    "    new = \"\"\n",
    "    for r in str:\n",
    "        if 97<=ord(r)<=122: #printing only characters whose ascii values are between a-z\n",
    "            new = new+r\n",
    "    return new\n",
    "\n",
    "name = \"Dr. Darshan Ingle @AIML Trainer\"\n",
    "namel = name.lower()\n",
    "convertor(namel)"
   ]
  },
  {
   "cell_type": "code",
   "execution_count": null,
   "metadata": {},
   "outputs": [],
   "source": []
  }
 ],
 "metadata": {
  "kernelspec": {
   "display_name": "Python 3",
   "language": "python",
   "name": "python3"
  },
  "language_info": {
   "codemirror_mode": {
    "name": "ipython",
    "version": 3
   },
   "file_extension": ".py",
   "mimetype": "text/x-python",
   "name": "python",
   "nbconvert_exporter": "python",
   "pygments_lexer": "ipython3",
   "version": "3.7.6"
  }
 },
 "nbformat": 4,
 "nbformat_minor": 4
}
