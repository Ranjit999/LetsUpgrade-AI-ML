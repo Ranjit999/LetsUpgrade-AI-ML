{
 "cells": [
  {
   "cell_type": "markdown",
   "metadata": {},
   "source": [
    "# Research on whether addition, subtraction, multiplication, division, floor division, and modulo operations be performed on complex numbers. Based on your study, implement a Python program to demonstrate these operations.\n"
   ]
  },
  {
   "cell_type": "code",
   "execution_count": 37,
   "metadata": {},
   "outputs": [
    {
     "name": "stdout",
     "output_type": "stream",
     "text": [
      "Enter first value: 5+9j\n",
      "Enter second value: 10+8j\n",
      "Suum:  (15+17j) \n",
      "Subtraction:  (-5+1j) \n",
      "multiplication  (-22+130j) \n",
      "mDivison (0.7439024390243902+0.30487804878048785j)\n"
     ]
    },
    {
     "ename": "TypeError",
     "evalue": "can't take floor of complex number.",
     "output_type": "error",
     "traceback": [
      "\u001b[1;31m---------------------------------------------------------------------------\u001b[0m",
      "\u001b[1;31mTypeError\u001b[0m                                 Traceback (most recent call last)",
      "\u001b[1;32m<ipython-input-37-7d29a6cbf349>\u001b[0m in \u001b[0;36m<module>\u001b[1;34m\u001b[0m\n\u001b[0;32m      6\u001b[0m \u001b[0mdiv_complex\u001b[0m \u001b[1;33m=\u001b[0m \u001b[0mcomplex1\u001b[0m\u001b[1;33m/\u001b[0m\u001b[0mcomplex2\u001b[0m\u001b[1;33m\u001b[0m\u001b[1;33m\u001b[0m\u001b[0m\n\u001b[0;32m      7\u001b[0m \u001b[0mprint\u001b[0m\u001b[1;33m(\u001b[0m\u001b[1;34m\"Suum: \"\u001b[0m\u001b[1;33m,\u001b[0m \u001b[0msum_complex\u001b[0m\u001b[1;33m,\u001b[0m\u001b[1;34m\"\\nSubtraction: \"\u001b[0m \u001b[1;33m,\u001b[0m \u001b[0msub_complex\u001b[0m\u001b[1;33m,\u001b[0m\u001b[1;34m\"\\nmultiplication \"\u001b[0m\u001b[1;33m,\u001b[0m \u001b[0mmul_complex\u001b[0m\u001b[1;33m,\u001b[0m \u001b[1;34m\"\\nmDivison\"\u001b[0m\u001b[1;33m,\u001b[0m\u001b[0mdiv_complex\u001b[0m\u001b[1;33m)\u001b[0m\u001b[1;33m\u001b[0m\u001b[1;33m\u001b[0m\u001b[0m\n\u001b[1;32m----> 8\u001b[1;33m \u001b[0mfdiv_complex\u001b[0m \u001b[1;33m=\u001b[0m \u001b[0mcomplex1\u001b[0m\u001b[1;33m//\u001b[0m\u001b[0mcomplex2\u001b[0m\u001b[1;33m\u001b[0m\u001b[1;33m\u001b[0m\u001b[0m\n\u001b[0m\u001b[0;32m      9\u001b[0m \u001b[0mprint\u001b[0m\u001b[1;33m(\u001b[0m\u001b[0mfdiv_complex\u001b[0m\u001b[1;33m)\u001b[0m\u001b[1;33m\u001b[0m\u001b[1;33m\u001b[0m\u001b[0m\n",
      "\u001b[1;31mTypeError\u001b[0m: can't take floor of complex number."
     ]
    }
   ],
   "source": [
    "complex1 = complex(input(\"Enter first value: \"))\n",
    "complex2 = complex(input(\"Enter second value: \"))\n",
    "sum_complex = complex1+complex2\n",
    "sub_complex = complex1-complex2\n",
    "mul_complex = complex1*complex2\n",
    "div_complex = complex1/complex2\n",
    "print(\"Suum: \", sum_complex,\"\\nSubtraction: \" , sub_complex,\"\\nmultiplication \", mul_complex, \"\\nDivison\",div_complex)\n",
    "fdiv_complex = complex1//complex2\n",
    "print(fdiv_complex)"
   ]
  },
  {
   "cell_type": "markdown",
   "metadata": {},
   "source": [
    "# Research on range() functions and its parameters. Create a markdown cell and write in your own words (no copy-paste from google please) what you understand about it. Implement a small program of your choice on the same."
   ]
  },
  {
   "cell_type": "markdown",
   "metadata": {},
   "source": [
    "Range uses three arugements. START, STOP (mandatory), STEP. Start is the numner from where the number range should start. Start number is inclusive in the range. STOP is the number wher range should stop. Stop is exclusive in the range. STEP is the interval between two numbers. Range functions works only on whole number that is postive and negative number but not on float numbers. "
   ]
  },
  {
   "cell_type": "markdown",
   "metadata": {},
   "source": [
    "# Consider two numbers. Perform their subtraction and if the result of subtraction is greater than 25, print their multiplication result else print their division result."
   ]
  },
  {
   "cell_type": "code",
   "execution_count": 14,
   "metadata": {},
   "outputs": [
    {
     "name": "stdout",
     "output_type": "stream",
     "text": [
      "Enter a two value: 5 6\n",
      "0.8333333333333334\n"
     ]
    }
   ],
   "source": [
    "a, b = (input(\"Enter a two value: \").split())\n",
    "a = int(a)\n",
    "b = int(b)\n",
    "if a-b>25:\n",
    "    print(a*b)\n",
    "else:\n",
    "    print(a/b)"
   ]
  },
  {
   "cell_type": "markdown",
   "metadata": {},
   "source": [
    "# Consider a list of 10 elements of integer values. If the number in the list is divisible by 2, print the result as \"square of that number minus 2\"."
   ]
  },
  {
   "cell_type": "code",
   "execution_count": 36,
   "metadata": {},
   "outputs": [
    {
     "name": "stdout",
     "output_type": "stream",
     "text": [
      "[24, 7, 21, 4, 12, 2, 26, 28, 18, 1]\n",
      "square of that number minus 2 24 is 574\n",
      "square of that number minus 2 4 is 14\n",
      "square of that number minus 2 12 is 142\n",
      "square of that number minus 2 2 is 2\n",
      "square of that number minus 2 26 is 674\n",
      "square of that number minus 2 28 is 782\n",
      "square of that number minus 2 18 is 322\n"
     ]
    }
   ],
   "source": [
    "import random\n",
    "\n",
    "newlist = random.sample(range(1, 30), 10)\n",
    "print(newlist)\n",
    "for i in newlist:\n",
    "    if i%2== 0:\n",
    "        print(\"square of that number minus 2\", i ,\"is\", i*i-2) "
   ]
  },
  {
   "cell_type": "markdown",
   "metadata": {},
   "source": [
    "# Consider a list of 10 elements. Print all the elements in the list which are greater than 7 when that number is divided 2"
   ]
  },
  {
   "cell_type": "code",
   "execution_count": 34,
   "metadata": {},
   "outputs": [
    {
     "name": "stdout",
     "output_type": "stream",
     "text": [
      "[10, 1, 6, 4, 5, 14, 12, 8, 9, 3]\n",
      "10\n",
      "14\n",
      "12\n",
      "8\n"
     ]
    }
   ],
   "source": [
    "import random\n",
    "\n",
    "newlist = random.sample(range(1, 15), 10)\n",
    "print(newlist)\n",
    "for i in newlist:\n",
    "    if i%2 == 0 :\n",
    "        if i>7:\n",
    "            print(i)"
   ]
  },
  {
   "cell_type": "code",
   "execution_count": null,
   "metadata": {},
   "outputs": [],
   "source": []
  }
 ],
 "metadata": {
  "kernelspec": {
   "display_name": "Python 3",
   "language": "python",
   "name": "python3"
  },
  "language_info": {
   "codemirror_mode": {
    "name": "ipython",
    "version": 3
   },
   "file_extension": ".py",
   "mimetype": "text/x-python",
   "name": "python",
   "nbconvert_exporter": "python",
   "pygments_lexer": "ipython3",
   "version": "3.7.6"
  }
 },
 "nbformat": 4,
 "nbformat_minor": 4
}
