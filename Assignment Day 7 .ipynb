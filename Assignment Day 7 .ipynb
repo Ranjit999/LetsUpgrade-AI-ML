{
 "cells": [
  {
   "cell_type": "markdown",
   "metadata": {},
   "source": [
    "# Write a program to copy the contents of one file to another using a for loop. (Don’t use built-in copy function)"
   ]
  },
  {
   "cell_type": "code",
   "execution_count": 19,
   "metadata": {},
   "outputs": [],
   "source": [
    "f = open(\"Hello.txt\")\n",
    "f1 = open(\"copy.txt\", \"w\")\n",
    "for line in f:\n",
    "    f1.write(line)\n",
    "f.close()\n",
    "f1.close()"
   ]
  },
  {
   "cell_type": "markdown",
   "metadata": {},
   "source": [
    "# Write a Python program to find maximum and minimum values in the dictionary. Do not use built-in min and max functions"
   ]
  },
  {
   "cell_type": "code",
   "execution_count": 34,
   "metadata": {},
   "outputs": [
    {
     "name": "stdout",
     "output_type": "stream",
     "text": [
      "2\n",
      "11\n"
     ]
    }
   ],
   "source": [
    "dict1 = {'a' : 11, 'b' : 2, 'c' : 4, 'd' : 8}\n",
    "\n",
    "listv = list(dict1.values())\n",
    "low = 99999\n",
    "for i in range(len(listv)):\n",
    "    if listv[i]<=low:\n",
    "        low = listv[i]\n",
    "print(low)\n",
    "\n",
    "high = -9999999\n",
    "for i in range(len(listv)):\n",
    "    if listv[i]>=high:\n",
    "        high = listv[i]\n",
    "print(high)"
   ]
  },
  {
   "cell_type": "code",
   "execution_count": null,
   "metadata": {},
   "outputs": [],
   "source": []
  }
 ],
 "metadata": {
  "kernelspec": {
   "display_name": "Python 3",
   "language": "python",
   "name": "python3"
  },
  "language_info": {
   "codemirror_mode": {
    "name": "ipython",
    "version": 3
   },
   "file_extension": ".py",
   "mimetype": "text/x-python",
   "name": "python",
   "nbconvert_exporter": "python",
   "pygments_lexer": "ipython3",
   "version": "3.7.6"
  }
 },
 "nbformat": 4,
 "nbformat_minor": 4
}
