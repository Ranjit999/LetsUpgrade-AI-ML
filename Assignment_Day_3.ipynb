{
 "cells": [
  {
   "cell_type": "markdown",
   "metadata": {},
   "source": [
    "### Write a program to subtract two complex numbers in Python.\n",
    "\n"
   ]
  },
  {
   "cell_type": "code",
   "execution_count": 3,
   "metadata": {},
   "outputs": [
    {
     "name": "stdout",
     "output_type": "stream",
     "text": [
      "Enter first value: 5+1j\n",
      "Enter second value: 10+2j\n",
      "(15+3j)\n"
     ]
    }
   ],
   "source": [
    "complex1 = complex(input(\"Enter first value: \"))\n",
    "complex2 = complex(input(\"Enter second value: \"))\n",
    "sum_complex = complex1+complex2\n",
    "print(sum_complex)"
   ]
  },
  {
   "cell_type": "markdown",
   "metadata": {},
   "source": [
    "# Write a program to find the fourth root of a number.\n"
   ]
  },
  {
   "cell_type": "code",
   "execution_count": 12,
   "metadata": {},
   "outputs": [
    {
     "name": "stdout",
     "output_type": "stream",
     "text": [
      "Enter a number16\n",
      "2.0\n"
     ]
    }
   ],
   "source": [
    "import math\n",
    "\n",
    "def fourth_root(x):\n",
    "    c= math.sqrt(math.sqrt(x))\n",
    "    return c\n",
    "\n",
    "a = int(input(\"Enter a number\"))\n",
    "b = fourth_root(a)\n",
    "print(b)"
   ]
  },
  {
   "cell_type": "markdown",
   "metadata": {},
   "source": [
    "# Write a program to swap two numbers in Python with the help of a temporary variable"
   ]
  },
  {
   "cell_type": "code",
   "execution_count": 17,
   "metadata": {},
   "outputs": [
    {
     "name": "stdout",
     "output_type": "stream",
     "text": [
      "Enter a number5\n",
      "Enter a number6\n",
      "Before Swapping 5 6\n",
      "After Swapping 6 5\n"
     ]
    }
   ],
   "source": [
    "a = int(input(\"Enter a number\"))\n",
    "b = int(input(\"Enter a number\"))\n",
    "print(\"Before Swapping\", a,b)\n",
    "c= a\n",
    "a= b\n",
    "b= c\n",
    "print(\"After Swapping\", a,b)"
   ]
  },
  {
   "cell_type": "markdown",
   "metadata": {},
   "source": [
    "# Write a program to swap two numbers in Python without using a temporary variable."
   ]
  },
  {
   "cell_type": "code",
   "execution_count": 18,
   "metadata": {},
   "outputs": [
    {
     "name": "stdout",
     "output_type": "stream",
     "text": [
      "Enter a number8\n",
      "Enter a number9\n",
      "Before Swapping 8 9\n",
      "After Swapping 9 8\n"
     ]
    }
   ],
   "source": [
    "a = int(input(\"Enter a number\"))\n",
    "b = int(input(\"Enter a number\"))\n",
    "print(\"Before Swapping\", a,b)\n",
    "a,b = b,a\n",
    "print(\"After Swapping\", a,b)"
   ]
  },
  {
   "cell_type": "markdown",
   "metadata": {},
   "source": [
    "# Write a program to convert Fahrenheit to kelvin and celsius both."
   ]
  },
  {
   "cell_type": "code",
   "execution_count": 21,
   "metadata": {},
   "outputs": [
    {
     "name": "stdout",
     "output_type": "stream",
     "text": [
      "Enter a temperature in Fahrenheit210\n",
      " The temperatues in Celsius and Kelvin are  98.88888888888889 372.3888888888889\n"
     ]
    }
   ],
   "source": [
    "def F_to_C(a):\n",
    "    C = (F - 32) * 5.0/9.0\n",
    "    return C\n",
    "\n",
    "def F_to_K(a):\n",
    "    K = 273.5 + ((F - 32.0) * (5.0/9.0))\n",
    "    return K\n",
    "\n",
    "F = int(input(\"Enter a temperature in Fahrenheit\"))\n",
    "print(\" The temperatues in Celsius and Kelvin are \", F_to_C(a), F_to_K(a))"
   ]
  },
  {
   "cell_type": "markdown",
   "metadata": {},
   "source": [
    "# Write a program to demonstrate all the available data types in Python. Hint: Use type() func"
   ]
  },
  {
   "cell_type": "code",
   "execution_count": 33,
   "metadata": {},
   "outputs": [
    {
     "name": "stdout",
     "output_type": "stream",
     "text": [
      "<class 'str'>\n",
      "<class 'int'>\n",
      "<class 'bool'>\n",
      "<class 'list'>\n",
      "<class 'tuple'>\n",
      "<class 'set'>\n",
      "<class 'float'>\n",
      "<class 'dict'>\n"
     ]
    }
   ],
   "source": [
    "print(type('a'))\n",
    "print(type(1))\n",
    "print(type(True))\n",
    "print(type([1,0]))\n",
    "print(type((1,0)))\n",
    "print(type({1,0}))\n",
    "print(type(1.003))\n",
    "print(type({1:'ranjit'}))"
   ]
  },
  {
   "cell_type": "code",
   "execution_count": null,
   "metadata": {},
   "outputs": [],
   "source": []
  }
 ],
 "metadata": {
  "kernelspec": {
   "display_name": "Python 3",
   "language": "python",
   "name": "python3"
  },
  "language_info": {
   "codemirror_mode": {
    "name": "ipython",
    "version": 3
   },
   "file_extension": ".py",
   "mimetype": "text/x-python",
   "name": "python",
   "nbconvert_exporter": "python",
   "pygments_lexer": "ipython3",
   "version": "3.7.6"
  }
 },
 "nbformat": 4,
 "nbformat_minor": 4
}
